{
 "cells": [
  {
   "cell_type": "markdown",
   "id": "b2c039f9-65dc-4968-bde9-71adc668057d",
   "metadata": {},
   "source": [
    "# **Evaluation of a model and its application for prediction**\n",
    "*Dataset source: https://www.inegi.org.mx/app/indicadores/?t=95&ag=00#D95#D6207061409*\n",
    "<br>*Author: Myroslava Sánchez Andrade A01730712*\n",
    "<br>*Creation date: 14/10/2022*\n",
    "<br>*Last updated: 21/10/2022*"
   ]
  },
  {
   "cell_type": "markdown",
   "id": "8ac6d0f6-d5a0-4260-a6d2-1a114e44d402",
   "metadata": {},
   "source": [
    "---\n",
    "## **Overview**"
   ]
  },
  {
   "cell_type": "markdown",
   "id": "0aee1270-ea29-4c04-beb9-71f0f249f622",
   "metadata": {},
   "source": [
    "The purpose of this repository is to calibrate an ARIMA-SARIMA model for the series of the GLOBAL INDEX OF ECONOMIC ACTIVITY of Mexico. It was carried out the process of data management and calibration of the model to obtain a forecast of the Mexican economy until the end of the current sexenial administration (SEP 2024)."
   ]
  },
  {
   "cell_type": "markdown",
   "id": "fdb4915e-a2a2-4348-9287-01124b7b1980",
   "metadata": {},
   "source": [
    "--- \n",
    "## **Configuration**"
   ]
  },
  {
   "cell_type": "code",
   "execution_count": 1,
   "id": "35bec346-1b50-46e8-9264-c25b181653b1",
   "metadata": {},
   "outputs": [],
   "source": [
    "# Importing the necessary libraries\n",
    "import pandas as pd\n",
    "import numpy as np\n",
    "import matplotlib.pyplot as plt\n",
    "from statsmodels.tsa.stattools import adfuller\n",
    "import statsmodels.api as sm\n"
   ]
  },
  {
   "cell_type": "code",
   "execution_count": 2,
   "id": "7f70c3dd-810c-4ccd-ba8d-20c41da62c5f",
   "metadata": {},
   "outputs": [
    {
     "data": {
      "text/html": [
       "<div>\n",
       "<style scoped>\n",
       "    .dataframe tbody tr th:only-of-type {\n",
       "        vertical-align: middle;\n",
       "    }\n",
       "\n",
       "    .dataframe tbody tr th {\n",
       "        vertical-align: top;\n",
       "    }\n",
       "\n",
       "    .dataframe thead th {\n",
       "        text-align: right;\n",
       "    }\n",
       "</style>\n",
       "<table border=\"1\" class=\"dataframe\">\n",
       "  <thead>\n",
       "    <tr style=\"text-align: right;\">\n",
       "      <th></th>\n",
       "      <th>Indicador</th>\n",
       "      <th>Nombre Indicador</th>\n",
       "      <th>Clave área geográfica</th>\n",
       "      <th>Entidad</th>\n",
       "      <th>Municipio</th>\n",
       "      <th>Periodo</th>\n",
       "      <th>Valor</th>\n",
       "      <th>Excepción</th>\n",
       "      <th>Unidad de medida</th>\n",
       "      <th>Frecuencia</th>\n",
       "      <th>Information Status</th>\n",
       "      <th>Referencias</th>\n",
       "    </tr>\n",
       "  </thead>\n",
       "  <tbody>\n",
       "    <tr>\n",
       "      <th>0</th>\n",
       "      <td>6207061409</td>\n",
       "      <td>IGAE. Índice de volumen físico base 2013=100. ...</td>\n",
       "      <td>700</td>\n",
       "      <td>Estados Unidos Mexicanos</td>\n",
       "      <td>Estados Unidos Mexicanos</td>\n",
       "      <td>2022/07</td>\n",
       "      <td>111.274552</td>\n",
       "      <td>NaN</td>\n",
       "      <td>Índice de volumen físico base 2013=100</td>\n",
       "      <td>Mensual</td>\n",
       "      <td>NaN</td>\n",
       "      <td>/a  /f1  /r1</td>\n",
       "    </tr>\n",
       "    <tr>\n",
       "      <th>1</th>\n",
       "      <td>6207061409</td>\n",
       "      <td>IGAE. Índice de volumen físico base 2013=100. ...</td>\n",
       "      <td>700</td>\n",
       "      <td>Estados Unidos Mexicanos</td>\n",
       "      <td>Estados Unidos Mexicanos</td>\n",
       "      <td>2022/06</td>\n",
       "      <td>112.797501</td>\n",
       "      <td>NaN</td>\n",
       "      <td>Índice de volumen físico base 2013=100</td>\n",
       "      <td>Mensual</td>\n",
       "      <td>NaN</td>\n",
       "      <td>/a  /f1  /r1</td>\n",
       "    </tr>\n",
       "    <tr>\n",
       "      <th>2</th>\n",
       "      <td>6207061409</td>\n",
       "      <td>IGAE. Índice de volumen físico base 2013=100. ...</td>\n",
       "      <td>700</td>\n",
       "      <td>Estados Unidos Mexicanos</td>\n",
       "      <td>Estados Unidos Mexicanos</td>\n",
       "      <td>2022/05</td>\n",
       "      <td>114.442424</td>\n",
       "      <td>NaN</td>\n",
       "      <td>Índice de volumen físico base 2013=100</td>\n",
       "      <td>Mensual</td>\n",
       "      <td>NaN</td>\n",
       "      <td>/a  /f1  /r1</td>\n",
       "    </tr>\n",
       "    <tr>\n",
       "      <th>3</th>\n",
       "      <td>6207061409</td>\n",
       "      <td>IGAE. Índice de volumen físico base 2013=100. ...</td>\n",
       "      <td>700</td>\n",
       "      <td>Estados Unidos Mexicanos</td>\n",
       "      <td>Estados Unidos Mexicanos</td>\n",
       "      <td>2022/04</td>\n",
       "      <td>109.529866</td>\n",
       "      <td>NaN</td>\n",
       "      <td>Índice de volumen físico base 2013=100</td>\n",
       "      <td>Mensual</td>\n",
       "      <td>NaN</td>\n",
       "      <td>/a  /f1  /r1</td>\n",
       "    </tr>\n",
       "    <tr>\n",
       "      <th>4</th>\n",
       "      <td>6207061409</td>\n",
       "      <td>IGAE. Índice de volumen físico base 2013=100. ...</td>\n",
       "      <td>700</td>\n",
       "      <td>Estados Unidos Mexicanos</td>\n",
       "      <td>Estados Unidos Mexicanos</td>\n",
       "      <td>2022/03</td>\n",
       "      <td>111.940152</td>\n",
       "      <td>NaN</td>\n",
       "      <td>Índice de volumen físico base 2013=100</td>\n",
       "      <td>Mensual</td>\n",
       "      <td>NaN</td>\n",
       "      <td>/a  /f1  /r1</td>\n",
       "    </tr>\n",
       "    <tr>\n",
       "      <th>...</th>\n",
       "      <td>...</td>\n",
       "      <td>...</td>\n",
       "      <td>...</td>\n",
       "      <td>...</td>\n",
       "      <td>...</td>\n",
       "      <td>...</td>\n",
       "      <td>...</td>\n",
       "      <td>...</td>\n",
       "      <td>...</td>\n",
       "      <td>...</td>\n",
       "      <td>...</td>\n",
       "      <td>...</td>\n",
       "    </tr>\n",
       "    <tr>\n",
       "      <th>350</th>\n",
       "      <td>6207061409</td>\n",
       "      <td>IGAE. Índice de volumen físico base 2013=100. ...</td>\n",
       "      <td>700</td>\n",
       "      <td>Estados Unidos Mexicanos</td>\n",
       "      <td>Estados Unidos Mexicanos</td>\n",
       "      <td>1993/05</td>\n",
       "      <td>63.612900</td>\n",
       "      <td>NaN</td>\n",
       "      <td>Índice de volumen físico base 2013=100</td>\n",
       "      <td>Mensual</td>\n",
       "      <td>NaN</td>\n",
       "      <td>/a  /f1  /r1</td>\n",
       "    </tr>\n",
       "    <tr>\n",
       "      <th>351</th>\n",
       "      <td>6207061409</td>\n",
       "      <td>IGAE. Índice de volumen físico base 2013=100. ...</td>\n",
       "      <td>700</td>\n",
       "      <td>Estados Unidos Mexicanos</td>\n",
       "      <td>Estados Unidos Mexicanos</td>\n",
       "      <td>1993/04</td>\n",
       "      <td>61.865984</td>\n",
       "      <td>NaN</td>\n",
       "      <td>Índice de volumen físico base 2013=100</td>\n",
       "      <td>Mensual</td>\n",
       "      <td>NaN</td>\n",
       "      <td>/a  /f1  /r1</td>\n",
       "    </tr>\n",
       "    <tr>\n",
       "      <th>352</th>\n",
       "      <td>6207061409</td>\n",
       "      <td>IGAE. Índice de volumen físico base 2013=100. ...</td>\n",
       "      <td>700</td>\n",
       "      <td>Estados Unidos Mexicanos</td>\n",
       "      <td>Estados Unidos Mexicanos</td>\n",
       "      <td>1993/03</td>\n",
       "      <td>63.943249</td>\n",
       "      <td>NaN</td>\n",
       "      <td>Índice de volumen físico base 2013=100</td>\n",
       "      <td>Mensual</td>\n",
       "      <td>NaN</td>\n",
       "      <td>/a  /f1  /r1</td>\n",
       "    </tr>\n",
       "    <tr>\n",
       "      <th>353</th>\n",
       "      <td>6207061409</td>\n",
       "      <td>IGAE. Índice de volumen físico base 2013=100. ...</td>\n",
       "      <td>700</td>\n",
       "      <td>Estados Unidos Mexicanos</td>\n",
       "      <td>Estados Unidos Mexicanos</td>\n",
       "      <td>1993/02</td>\n",
       "      <td>61.022521</td>\n",
       "      <td>NaN</td>\n",
       "      <td>Índice de volumen físico base 2013=100</td>\n",
       "      <td>Mensual</td>\n",
       "      <td>NaN</td>\n",
       "      <td>/a  /f1  /r1</td>\n",
       "    </tr>\n",
       "    <tr>\n",
       "      <th>354</th>\n",
       "      <td>6207061409</td>\n",
       "      <td>IGAE. Índice de volumen físico base 2013=100. ...</td>\n",
       "      <td>700</td>\n",
       "      <td>Estados Unidos Mexicanos</td>\n",
       "      <td>Estados Unidos Mexicanos</td>\n",
       "      <td>1993/01</td>\n",
       "      <td>60.407691</td>\n",
       "      <td>NaN</td>\n",
       "      <td>Índice de volumen físico base 2013=100</td>\n",
       "      <td>Mensual</td>\n",
       "      <td>NaN</td>\n",
       "      <td>/a  /f1  /r1</td>\n",
       "    </tr>\n",
       "  </tbody>\n",
       "</table>\n",
       "<p>355 rows × 12 columns</p>\n",
       "</div>"
      ],
      "text/plain": [
       "      Indicador                                   Nombre Indicador  \\\n",
       "0    6207061409  IGAE. Índice de volumen físico base 2013=100. ...   \n",
       "1    6207061409  IGAE. Índice de volumen físico base 2013=100. ...   \n",
       "2    6207061409  IGAE. Índice de volumen físico base 2013=100. ...   \n",
       "3    6207061409  IGAE. Índice de volumen físico base 2013=100. ...   \n",
       "4    6207061409  IGAE. Índice de volumen físico base 2013=100. ...   \n",
       "..          ...                                                ...   \n",
       "350  6207061409  IGAE. Índice de volumen físico base 2013=100. ...   \n",
       "351  6207061409  IGAE. Índice de volumen físico base 2013=100. ...   \n",
       "352  6207061409  IGAE. Índice de volumen físico base 2013=100. ...   \n",
       "353  6207061409  IGAE. Índice de volumen físico base 2013=100. ...   \n",
       "354  6207061409  IGAE. Índice de volumen físico base 2013=100. ...   \n",
       "\n",
       "     Clave área geográfica                   Entidad  \\\n",
       "0                      700  Estados Unidos Mexicanos   \n",
       "1                      700  Estados Unidos Mexicanos   \n",
       "2                      700  Estados Unidos Mexicanos   \n",
       "3                      700  Estados Unidos Mexicanos   \n",
       "4                      700  Estados Unidos Mexicanos   \n",
       "..                     ...                       ...   \n",
       "350                    700  Estados Unidos Mexicanos   \n",
       "351                    700  Estados Unidos Mexicanos   \n",
       "352                    700  Estados Unidos Mexicanos   \n",
       "353                    700  Estados Unidos Mexicanos   \n",
       "354                    700  Estados Unidos Mexicanos   \n",
       "\n",
       "                    Municipio  Periodo       Valor  Excepción  \\\n",
       "0    Estados Unidos Mexicanos  2022/07  111.274552        NaN   \n",
       "1    Estados Unidos Mexicanos  2022/06  112.797501        NaN   \n",
       "2    Estados Unidos Mexicanos  2022/05  114.442424        NaN   \n",
       "3    Estados Unidos Mexicanos  2022/04  109.529866        NaN   \n",
       "4    Estados Unidos Mexicanos  2022/03  111.940152        NaN   \n",
       "..                        ...      ...         ...        ...   \n",
       "350  Estados Unidos Mexicanos  1993/05   63.612900        NaN   \n",
       "351  Estados Unidos Mexicanos  1993/04   61.865984        NaN   \n",
       "352  Estados Unidos Mexicanos  1993/03   63.943249        NaN   \n",
       "353  Estados Unidos Mexicanos  1993/02   61.022521        NaN   \n",
       "354  Estados Unidos Mexicanos  1993/01   60.407691        NaN   \n",
       "\n",
       "                           Unidad de medida Frecuencia  Information Status  \\\n",
       "0    Índice de volumen físico base 2013=100    Mensual                 NaN   \n",
       "1    Índice de volumen físico base 2013=100    Mensual                 NaN   \n",
       "2    Índice de volumen físico base 2013=100    Mensual                 NaN   \n",
       "3    Índice de volumen físico base 2013=100    Mensual                 NaN   \n",
       "4    Índice de volumen físico base 2013=100    Mensual                 NaN   \n",
       "..                                      ...        ...                 ...   \n",
       "350  Índice de volumen físico base 2013=100    Mensual                 NaN   \n",
       "351  Índice de volumen físico base 2013=100    Mensual                 NaN   \n",
       "352  Índice de volumen físico base 2013=100    Mensual                 NaN   \n",
       "353  Índice de volumen físico base 2013=100    Mensual                 NaN   \n",
       "354  Índice de volumen físico base 2013=100    Mensual                 NaN   \n",
       "\n",
       "        Referencias  \n",
       "0    /a  /f1  /r1    \n",
       "1    /a  /f1  /r1    \n",
       "2    /a  /f1  /r1    \n",
       "3    /a  /f1  /r1    \n",
       "4    /a  /f1  /r1    \n",
       "..              ...  \n",
       "350  /a  /f1  /r1    \n",
       "351  /a  /f1  /r1    \n",
       "352  /a  /f1  /r1    \n",
       "353  /a  /f1  /r1    \n",
       "354  /a  /f1  /r1    \n",
       "\n",
       "[355 rows x 12 columns]"
      ]
     },
     "execution_count": 2,
     "metadata": {},
     "output_type": "execute_result"
    }
   ],
   "source": [
    "# Importing the dataset\n",
    "h_index_economic_activity_mx = pd.read_csv('data/Indicadores20221007105052.csv')\n",
    "h_index_economic_activity_mx"
   ]
  },
  {
   "cell_type": "code",
   "execution_count": 3,
   "id": "1ba08ade-20f5-472a-bdc9-d79be684c8ef",
   "metadata": {},
   "outputs": [
    {
     "data": {
      "text/html": [
       "<div>\n",
       "<style scoped>\n",
       "    .dataframe tbody tr th:only-of-type {\n",
       "        vertical-align: middle;\n",
       "    }\n",
       "\n",
       "    .dataframe tbody tr th {\n",
       "        vertical-align: top;\n",
       "    }\n",
       "\n",
       "    .dataframe thead th {\n",
       "        text-align: right;\n",
       "    }\n",
       "</style>\n",
       "<table border=\"1\" class=\"dataframe\">\n",
       "  <thead>\n",
       "    <tr style=\"text-align: right;\">\n",
       "      <th></th>\n",
       "      <th>Periodo</th>\n",
       "      <th>Valor</th>\n",
       "    </tr>\n",
       "  </thead>\n",
       "  <tbody>\n",
       "    <tr>\n",
       "      <th>0</th>\n",
       "      <td>1993/01</td>\n",
       "      <td>60.407691</td>\n",
       "    </tr>\n",
       "    <tr>\n",
       "      <th>1</th>\n",
       "      <td>1993/02</td>\n",
       "      <td>61.022521</td>\n",
       "    </tr>\n",
       "    <tr>\n",
       "      <th>2</th>\n",
       "      <td>1993/03</td>\n",
       "      <td>63.943249</td>\n",
       "    </tr>\n",
       "    <tr>\n",
       "      <th>3</th>\n",
       "      <td>1993/04</td>\n",
       "      <td>61.865984</td>\n",
       "    </tr>\n",
       "    <tr>\n",
       "      <th>4</th>\n",
       "      <td>1993/05</td>\n",
       "      <td>63.612900</td>\n",
       "    </tr>\n",
       "    <tr>\n",
       "      <th>...</th>\n",
       "      <td>...</td>\n",
       "      <td>...</td>\n",
       "    </tr>\n",
       "    <tr>\n",
       "      <th>350</th>\n",
       "      <td>2022/03</td>\n",
       "      <td>111.940152</td>\n",
       "    </tr>\n",
       "    <tr>\n",
       "      <th>351</th>\n",
       "      <td>2022/04</td>\n",
       "      <td>109.529866</td>\n",
       "    </tr>\n",
       "    <tr>\n",
       "      <th>352</th>\n",
       "      <td>2022/05</td>\n",
       "      <td>114.442424</td>\n",
       "    </tr>\n",
       "    <tr>\n",
       "      <th>353</th>\n",
       "      <td>2022/06</td>\n",
       "      <td>112.797501</td>\n",
       "    </tr>\n",
       "    <tr>\n",
       "      <th>354</th>\n",
       "      <td>2022/07</td>\n",
       "      <td>111.274552</td>\n",
       "    </tr>\n",
       "  </tbody>\n",
       "</table>\n",
       "<p>355 rows × 2 columns</p>\n",
       "</div>"
      ],
      "text/plain": [
       "     Periodo       Valor\n",
       "0    1993/01   60.407691\n",
       "1    1993/02   61.022521\n",
       "2    1993/03   63.943249\n",
       "3    1993/04   61.865984\n",
       "4    1993/05   63.612900\n",
       "..       ...         ...\n",
       "350  2022/03  111.940152\n",
       "351  2022/04  109.529866\n",
       "352  2022/05  114.442424\n",
       "353  2022/06  112.797501\n",
       "354  2022/07  111.274552\n",
       "\n",
       "[355 rows x 2 columns]"
      ]
     },
     "execution_count": 3,
     "metadata": {},
     "output_type": "execute_result"
    }
   ],
   "source": [
    "# Keeping the realiable variables\n",
    "h_index_economic_activity_mx = h_index_economic_activity_mx[['Periodo', 'Valor']]\n",
    "h_index_economic_activity_mx = h_index_economic_activity_mx.loc[::-1].reset_index(drop=True)\n",
    "h_index_economic_activity_mx"
   ]
  },
  {
   "cell_type": "markdown",
   "id": "8673e1f0-13b7-48ed-be74-ab9bcd5d7a48",
   "metadata": {},
   "source": [
    "---\n",
    "## **Stationarity analysis**"
   ]
  },
  {
   "cell_type": "code",
   "execution_count": 4,
   "id": "89900de1-422e-4e8a-8440-347fab453110",
   "metadata": {},
   "outputs": [
    {
     "data": {
      "image/png": "[encoded data removed]",
      "text/plain": [
       "<Figure size 432x288 with 1 Axes>"
      ]
     },
     "metadata": {
      "needs_background": "light"
     },
     "output_type": "display_data"
    }
   ],
   "source": [
    "# Plotting the index over time\n",
    "plt.clf()\n",
    "plt.title(\"Global Index of Economic Activity Mexico\")\n",
    "plt.plot(h_index_economic_activity_mx.Periodo, h_index_economic_activity_mx.Valor)\n",
    "plt.xticks(rotation = 45, ha = \"right\")\n",
    "plt.show()"
   ]
  },
  {
   "cell_type": "markdown",
   "id": "31a03f3a-90f2-4630-99ca-b01cd774d0fb",
   "metadata": {},
   "source": [
    "As we can observe in the above graphic, the index does not behave as a stationary serie, we can actually see that there is an increasing tendency of the index over time. By simply observing, we can observe that there are different average values in different periods of time. Since the first impression of the data analysis is that it does not behave as a stationary serie; in the next cells this first impression will be proved by checking the characteristics of stationary series."
   ]
  },
  {
   "cell_type": "markdown",
   "id": "0ff2872c-76be-4918-ad06-81d6030ae482",
   "metadata": {},
   "source": [
    "***The average of the series is constant over time***"
   ]
  },
  {
   "cell_type": "code",
   "execution_count": 5,
   "id": "2c04be89-8608-4ec6-bb74-8503d021fec9",
   "metadata": {},
   "outputs": [
    {
     "data": {
      "text/html": [
       "<div>\n",
       "<style scoped>\n",
       "    .dataframe tbody tr th:only-of-type {\n",
       "        vertical-align: middle;\n",
       "    }\n",
       "\n",
       "    .dataframe tbody tr th {\n",
       "        vertical-align: top;\n",
       "    }\n",
       "\n",
       "    .dataframe thead th {\n",
       "        text-align: right;\n",
       "    }\n",
       "</style>\n",
       "<table border=\"1\" class=\"dataframe\">\n",
       "  <thead>\n",
       "    <tr style=\"text-align: right;\">\n",
       "      <th></th>\n",
       "      <th>Valor</th>\n",
       "    </tr>\n",
       "    <tr>\n",
       "      <th>Periodo</th>\n",
       "      <th></th>\n",
       "    </tr>\n",
       "  </thead>\n",
       "  <tbody>\n",
       "    <tr>\n",
       "      <th>1993</th>\n",
       "      <td>62.763073</td>\n",
       "    </tr>\n",
       "    <tr>\n",
       "      <th>1994</th>\n",
       "      <td>65.820599</td>\n",
       "    </tr>\n",
       "    <tr>\n",
       "      <th>1995</th>\n",
       "      <td>61.684299</td>\n",
       "    </tr>\n",
       "    <tr>\n",
       "      <th>1996</th>\n",
       "      <td>65.898989</td>\n",
       "    </tr>\n",
       "    <tr>\n",
       "      <th>1997</th>\n",
       "      <td>70.352236</td>\n",
       "    </tr>\n",
       "    <tr>\n",
       "      <th>1998</th>\n",
       "      <td>74.003165</td>\n",
       "    </tr>\n",
       "    <tr>\n",
       "      <th>1999</th>\n",
       "      <td>76.016915</td>\n",
       "    </tr>\n",
       "    <tr>\n",
       "      <th>2000</th>\n",
       "      <td>79.896427</td>\n",
       "    </tr>\n",
       "    <tr>\n",
       "      <th>2001</th>\n",
       "      <td>79.489557</td>\n",
       "    </tr>\n",
       "    <tr>\n",
       "      <th>2002</th>\n",
       "      <td>79.420489</td>\n",
       "    </tr>\n",
       "    <tr>\n",
       "      <th>2003</th>\n",
       "      <td>80.488233</td>\n",
       "    </tr>\n",
       "    <tr>\n",
       "      <th>2004</th>\n",
       "      <td>83.637738</td>\n",
       "    </tr>\n",
       "    <tr>\n",
       "      <th>2005</th>\n",
       "      <td>85.594865</td>\n",
       "    </tr>\n",
       "    <tr>\n",
       "      <th>2006</th>\n",
       "      <td>89.363112</td>\n",
       "    </tr>\n",
       "    <tr>\n",
       "      <th>2007</th>\n",
       "      <td>91.482932</td>\n",
       "    </tr>\n",
       "    <tr>\n",
       "      <th>2008</th>\n",
       "      <td>92.392167</td>\n",
       "    </tr>\n",
       "    <tr>\n",
       "      <th>2009</th>\n",
       "      <td>87.350166</td>\n",
       "    </tr>\n",
       "    <tr>\n",
       "      <th>2010</th>\n",
       "      <td>91.696445</td>\n",
       "    </tr>\n",
       "    <tr>\n",
       "      <th>2011</th>\n",
       "      <td>95.152760</td>\n",
       "    </tr>\n",
       "    <tr>\n",
       "      <th>2012</th>\n",
       "      <td>98.641765</td>\n",
       "    </tr>\n",
       "    <tr>\n",
       "      <th>2013</th>\n",
       "      <td>100.000000</td>\n",
       "    </tr>\n",
       "    <tr>\n",
       "      <th>2014</th>\n",
       "      <td>102.611889</td>\n",
       "    </tr>\n",
       "    <tr>\n",
       "      <th>2015</th>\n",
       "      <td>105.831804</td>\n",
       "    </tr>\n",
       "    <tr>\n",
       "      <th>2016</th>\n",
       "      <td>108.414850</td>\n",
       "    </tr>\n",
       "    <tr>\n",
       "      <th>2017</th>\n",
       "      <td>110.581886</td>\n",
       "    </tr>\n",
       "    <tr>\n",
       "      <th>2018</th>\n",
       "      <td>112.882202</td>\n",
       "    </tr>\n",
       "    <tr>\n",
       "      <th>2019</th>\n",
       "      <td>112.666522</td>\n",
       "    </tr>\n",
       "    <tr>\n",
       "      <th>2020</th>\n",
       "      <td>103.844293</td>\n",
       "    </tr>\n",
       "    <tr>\n",
       "      <th>2021</th>\n",
       "      <td>108.824276</td>\n",
       "    </tr>\n",
       "    <tr>\n",
       "      <th>2022</th>\n",
       "      <td>110.357568</td>\n",
       "    </tr>\n",
       "  </tbody>\n",
       "</table>\n",
       "</div>"
      ],
      "text/plain": [
       "              Valor\n",
       "Periodo            \n",
       "1993      62.763073\n",
       "1994      65.820599\n",
       "1995      61.684299\n",
       "1996      65.898989\n",
       "1997      70.352236\n",
       "1998      74.003165\n",
       "1999      76.016915\n",
       "2000      79.896427\n",
       "2001      79.489557\n",
       "2002      79.420489\n",
       "2003      80.488233\n",
       "2004      83.637738\n",
       "2005      85.594865\n",
       "2006      89.363112\n",
       "2007      91.482932\n",
       "2008      92.392167\n",
       "2009      87.350166\n",
       "2010      91.696445\n",
       "2011      95.152760\n",
       "2012      98.641765\n",
       "2013     100.000000\n",
       "2014     102.611889\n",
       "2015     105.831804\n",
       "2016     108.414850\n",
       "2017     110.581886\n",
       "2018     112.882202\n",
       "2019     112.666522\n",
       "2020     103.844293\n",
       "2021     108.824276\n",
       "2022     110.357568"
      ]
     },
     "execution_count": 5,
     "metadata": {},
     "output_type": "execute_result"
    }
   ],
   "source": [
    "# Calculating the mean of every year\n",
    "h_index_economic_activity_mx.groupby(h_index_economic_activity_mx.Periodo.str[0:4]).mean()"
   ]
  },
  {
   "cell_type": "markdown",
   "id": "5067e5ee-9c18-4438-8c1b-cb1bb8e93f91",
   "metadata": {},
   "source": [
    "As we can see, the mean varies over time (yearly).\n",
    "Since it was demonstrated that the index does not behave as a stationary serie, the corresponding transformations will be made (difference of the log) to make it stationary."
   ]
  },
  {
   "cell_type": "markdown",
   "id": "7eaa3290-5299-4938-a5b5-7c81e8004057",
   "metadata": {},
   "source": [
    "---\n",
    "## **Testing for stationarity**"
   ]
  },
  {
   "cell_type": "code",
   "execution_count": 6,
   "id": "a89ae8b7-7aef-4b11-8d65-66f874cb7e88",
   "metadata": {},
   "outputs": [
    {
     "data": {
      "text/html": [
       "<div>\n",
       "<style scoped>\n",
       "    .dataframe tbody tr th:only-of-type {\n",
       "        vertical-align: middle;\n",
       "    }\n",
       "\n",
       "    .dataframe tbody tr th {\n",
       "        vertical-align: top;\n",
       "    }\n",
       "\n",
       "    .dataframe thead th {\n",
       "        text-align: right;\n",
       "    }\n",
       "</style>\n",
       "<table border=\"1\" class=\"dataframe\">\n",
       "  <thead>\n",
       "    <tr style=\"text-align: right;\">\n",
       "      <th></th>\n",
       "      <th>Periodo</th>\n",
       "      <th>Valor</th>\n",
       "      <th>Ln Valor</th>\n",
       "      <th>CC Valor</th>\n",
       "    </tr>\n",
       "  </thead>\n",
       "  <tbody>\n",
       "    <tr>\n",
       "      <th>0</th>\n",
       "      <td>1993/01</td>\n",
       "      <td>60.407691</td>\n",
       "      <td>4.101116</td>\n",
       "      <td>NaN</td>\n",
       "    </tr>\n",
       "    <tr>\n",
       "      <th>1</th>\n",
       "      <td>1993/02</td>\n",
       "      <td>61.022521</td>\n",
       "      <td>4.111243</td>\n",
       "      <td>NaN</td>\n",
       "    </tr>\n",
       "    <tr>\n",
       "      <th>2</th>\n",
       "      <td>1993/03</td>\n",
       "      <td>63.943249</td>\n",
       "      <td>4.157996</td>\n",
       "      <td>NaN</td>\n",
       "    </tr>\n",
       "    <tr>\n",
       "      <th>3</th>\n",
       "      <td>1993/04</td>\n",
       "      <td>61.865984</td>\n",
       "      <td>4.124970</td>\n",
       "      <td>NaN</td>\n",
       "    </tr>\n",
       "    <tr>\n",
       "      <th>4</th>\n",
       "      <td>1993/05</td>\n",
       "      <td>63.612900</td>\n",
       "      <td>4.152816</td>\n",
       "      <td>NaN</td>\n",
       "    </tr>\n",
       "    <tr>\n",
       "      <th>...</th>\n",
       "      <td>...</td>\n",
       "      <td>...</td>\n",
       "      <td>...</td>\n",
       "      <td>...</td>\n",
       "    </tr>\n",
       "    <tr>\n",
       "      <th>350</th>\n",
       "      <td>2022/03</td>\n",
       "      <td>111.940152</td>\n",
       "      <td>4.717964</td>\n",
       "      <td>0.003661</td>\n",
       "    </tr>\n",
       "    <tr>\n",
       "      <th>351</th>\n",
       "      <td>2022/04</td>\n",
       "      <td>109.529866</td>\n",
       "      <td>4.696197</td>\n",
       "      <td>0.013414</td>\n",
       "    </tr>\n",
       "    <tr>\n",
       "      <th>352</th>\n",
       "      <td>2022/05</td>\n",
       "      <td>114.442424</td>\n",
       "      <td>4.740072</td>\n",
       "      <td>0.021001</td>\n",
       "    </tr>\n",
       "    <tr>\n",
       "      <th>353</th>\n",
       "      <td>2022/06</td>\n",
       "      <td>112.797501</td>\n",
       "      <td>4.725594</td>\n",
       "      <td>0.014522</td>\n",
       "    </tr>\n",
       "    <tr>\n",
       "      <th>354</th>\n",
       "      <td>2022/07</td>\n",
       "      <td>111.274552</td>\n",
       "      <td>4.712001</td>\n",
       "      <td>0.012631</td>\n",
       "    </tr>\n",
       "  </tbody>\n",
       "</table>\n",
       "<p>355 rows × 4 columns</p>\n",
       "</div>"
      ],
      "text/plain": [
       "     Periodo       Valor  Ln Valor  CC Valor\n",
       "0    1993/01   60.407691  4.101116       NaN\n",
       "1    1993/02   61.022521  4.111243       NaN\n",
       "2    1993/03   63.943249  4.157996       NaN\n",
       "3    1993/04   61.865984  4.124970       NaN\n",
       "4    1993/05   63.612900  4.152816       NaN\n",
       "..       ...         ...       ...       ...\n",
       "350  2022/03  111.940152  4.717964  0.003661\n",
       "351  2022/04  109.529866  4.696197  0.013414\n",
       "352  2022/05  114.442424  4.740072  0.021001\n",
       "353  2022/06  112.797501  4.725594  0.014522\n",
       "354  2022/07  111.274552  4.712001  0.012631\n",
       "\n",
       "[355 rows x 4 columns]"
      ]
     },
     "execution_count": 6,
     "metadata": {},
     "output_type": "execute_result"
    }
   ],
   "source": [
    "# Calculating the monthly growth (in cc) of the index\n",
    "h_index_economic_activity_mx_stationary = h_index_economic_activity_mx\n",
    "h_index_economic_activity_mx_stationary['Ln Valor'] = np.log(h_index_economic_activity_mx['Valor'])\n",
    "h_index_economic_activity_mx_stationary['CC Valor'] = h_index_economic_activity_mx['Ln Valor'] - h_index_economic_activity_mx['Ln Valor'].shift(12)\n",
    "h_index_economic_activity_mx_stationary_no_nan = h_index_economic_activity_mx_stationary[~h_index_economic_activity_mx_stationary.isin([np.nan, np.inf, -np.inf]).any(1)].reset_index().drop(['index'], axis=1)\n",
    "h_index_economic_activity_mx_stationary"
   ]
  },
  {
   "cell_type": "code",
   "execution_count": 7,
   "id": "19ff2602-6ace-43a6-a236-474a470744ab",
   "metadata": {},
   "outputs": [
    {
     "data": {
      "image/png": "[encoded data removed]",
      "text/plain": [
       "<Figure size 432x288 with 1 Axes>"
      ]
     },
     "metadata": {
      "needs_background": "light"
     },
     "output_type": "display_data"
    }
   ],
   "source": [
    "# Plotting the index (cc) over time\n",
    "plt.clf()\n",
    "plt.title(\"Global Index of Economic Activity Mexico\")\n",
    "plt.plot(h_index_economic_activity_mx_stationary_no_nan.Periodo, h_index_economic_activity_mx_stationary_no_nan['CC Valor'])\n",
    "plt.xticks(rotation = 45, ha = \"right\")\n",
    "plt.show()"
   ]
  },
  {
   "cell_type": "markdown",
   "id": "35a694d5-89bf-444f-b8a8-a676b52e46e2",
   "metadata": {},
   "source": [
    "Even though it looks like a stationary serie, we will test it running the Dicky-Fuller test."
   ]
  },
  {
   "cell_type": "code",
   "execution_count": 8,
   "id": "f7276ac5-cb38-4a56-a48a-1b92da609bfa",
   "metadata": {},
   "outputs": [
    {
     "data": {
      "text/plain": [
       "(-3.7672916222942328,\n",
       " 0.003260263559812781,\n",
       " 17,\n",
       " 325,\n",
       " {'1%': -3.450632157720528,\n",
       "  '5%': -2.870474482366864,\n",
       "  '10%': -2.5715301325443787},\n",
       " -1446.8289417719393)"
      ]
     },
     "execution_count": 8,
     "metadata": {},
     "output_type": "execute_result"
    }
   ],
   "source": [
    "# Performing augmented Dickey-Fuller test\n",
    "adfuller(h_index_economic_activity_mx_stationary_no_nan['CC Valor'])"
   ]
  },
  {
   "cell_type": "markdown",
   "id": "35e71623-0643-4635-bfb2-44245217837b",
   "metadata": {},
   "source": [
    "The first number represents the **t-value**, we can observe that it is greater than 2 (absolute value). The t-value is the mean minus the null hypothesis divided by the standard error, in this case the null hypothesis is the hypothesis where the serie is actually non stationary. The result of the t-value tells us how many standard deviations is our hypothesis away from the null hypothesis; lets remember that for a normal distribution, 2 standard deviations represent a 95% probability under the curve, thus, for a hypothesis to be approved, the t-value must be at least 2 (-2 for a negative relation). The **p value** is the probability of the null hypothesis to be correct. as we can see, the p-value for these variables is basically 0, which means that the probability of the serie to be non stationary is basically 0."
   ]
  },
  {
   "cell_type": "markdown",
   "id": "a559cb7f-6c62-445f-b98e-17157375ad90",
   "metadata": {},
   "source": [
    "---\n",
    "## **ACF and PACF plots**"
   ]
  },
  {
   "cell_type": "code",
   "execution_count": 9,
   "id": "e962fe9d-9b7a-40ca-b24e-073c5ab7df8c",
   "metadata": {},
   "outputs": [
    {
     "name": "stderr",
     "output_type": "stream",
     "text": [
      "c:\\Users\\myros\\anaconda3\\envs\\Statistics\\lib\\site-packages\\statsmodels\\graphics\\tsaplots.py:348: FutureWarning: The default method 'yw' can produce PACF values outside of the [-1,1] interval. After 0.13, the default will change tounadjusted Yule-Walker ('ywm'). You can use this method now by setting method='ywm'.\n",
      "  warnings.warn(\n"
     ]
    },
    {
     "data": {
      "image/png": "[encoded data removed]",
      "text/plain": [
       "<Figure size 864x720 with 2 Axes>"
      ]
     },
     "metadata": {
      "needs_background": "light"
     },
     "output_type": "display_data"
    }
   ],
   "source": [
    "# Ploting the autocorrelations\n",
    "fig = plt.figure(figsize=(12,10))\n",
    "ax1 = fig.add_subplot(211)\n",
    "fig = sm.graphics.tsa.plot_acf(h_index_economic_activity_mx_stationary_no_nan['CC Valor'], ax=ax1)  \n",
    "ax2 = fig.add_subplot(212)\n",
    "fig = sm.graphics.tsa.plot_pacf(h_index_economic_activity_mx_stationary_no_nan['CC Valor'], ax=ax2)"
   ]
  },
  {
   "cell_type": "markdown",
   "id": "db43fb0b-c4cd-46a3-b776-b2f3f98f77d7",
   "metadata": {},
   "source": [
    "---\n",
    "## **ACF and PACF interpretation**"
   ]
  },
  {
   "cell_type": "markdown",
   "id": "b807e1ae-6c79-489f-8ef6-2c4f92a3311d",
   "metadata": {},
   "source": [
    "The vertical lines are the magnitude of the autocorrelation between the current value and the lag. And the blue area are the 95% confidence interval for these autocorrelations, so the lines that cross the blue area mean that the autocorrelations are significantly different than zero.\n",
    "\n",
    "For the modelling, it will be used de Seasonality ARIMA since this model relies on seasonal lags and differences to fit the seasonal pattern. To fit this model we first determine `D (# of seasonal differences)` and `d ( # of nonseasonal differences)`; since the seasonal pattern of the original data is strong and stable a seasonal difference must be used. As we proved in the Dicky-Fuller test, applying the first seasonal difference is enough to make the serie stationary, therefore: $D = 1$ and $d = 0$.\n",
    "\n",
    "The AR(p) model (Autoregressive Model) assumes that there is some kind of autocorrelation in time series. This model has a **long term memory** since the values of the series tomorrow will depend on the value of today, thus the value of today will have have an impact int all the future series. To determine the number of `(p)` we can observe the **PACF** plot which describes the autocorrelations of the index; after observing it we can determine that $p = 1$.\n",
    "The MA(q) (Moving-Average Model) has a **short term memory** and assumes that the values of today is directly affected by past random shocks. To determine the number of `(q)` we can observe in both the **ACF** plot which dies out gradually and the **PACF** plot which cuts off sharply; also, we can observe that the autocorrelation with `lag1` is negative and significant, thus we can determine that $q = 1$.\n",
    "\n",
    "In the **PACF** plot we can also observe that there is a seasonal pattern (every 12 lags we can observe a signinficant correlation), thus we can determine that $Q = 1$.\n",
    "\n",
    "`SARIMA (p = 1, d = 0, q = 1)(P = 0, D = 1, Q = 1, s = 12)`"
   ]
  },
  {
   "cell_type": "markdown",
   "id": "3b3d16d2-5c71-4fcf-ad92-5a7b0dee6dd0",
   "metadata": {},
   "source": [
    "---\n",
    "## **SARIMA Model**"
   ]
  },
  {
   "cell_type": "code",
   "execution_count": 10,
   "id": "4b1c373c",
   "metadata": {},
   "outputs": [
    {
     "data": {
      "text/html": [
       "<div>\n",
       "<style scoped>\n",
       "    .dataframe tbody tr th:only-of-type {\n",
       "        vertical-align: middle;\n",
       "    }\n",
       "\n",
       "    .dataframe tbody tr th {\n",
       "        vertical-align: top;\n",
       "    }\n",
       "\n",
       "    .dataframe thead th {\n",
       "        text-align: right;\n",
       "    }\n",
       "</style>\n",
       "<table border=\"1\" class=\"dataframe\">\n",
       "  <thead>\n",
       "    <tr style=\"text-align: right;\">\n",
       "      <th></th>\n",
       "      <th>Ln Valor</th>\n",
       "    </tr>\n",
       "    <tr>\n",
       "      <th>Periodo</th>\n",
       "      <th></th>\n",
       "    </tr>\n",
       "  </thead>\n",
       "  <tbody>\n",
       "    <tr>\n",
       "      <th>1993/01</th>\n",
       "      <td>4.101116</td>\n",
       "    </tr>\n",
       "    <tr>\n",
       "      <th>1993/02</th>\n",
       "      <td>4.111243</td>\n",
       "    </tr>\n",
       "    <tr>\n",
       "      <th>1993/03</th>\n",
       "      <td>4.157996</td>\n",
       "    </tr>\n",
       "    <tr>\n",
       "      <th>1993/04</th>\n",
       "      <td>4.124970</td>\n",
       "    </tr>\n",
       "    <tr>\n",
       "      <th>1993/05</th>\n",
       "      <td>4.152816</td>\n",
       "    </tr>\n",
       "    <tr>\n",
       "      <th>...</th>\n",
       "      <td>...</td>\n",
       "    </tr>\n",
       "    <tr>\n",
       "      <th>2022/03</th>\n",
       "      <td>4.717964</td>\n",
       "    </tr>\n",
       "    <tr>\n",
       "      <th>2022/04</th>\n",
       "      <td>4.696197</td>\n",
       "    </tr>\n",
       "    <tr>\n",
       "      <th>2022/05</th>\n",
       "      <td>4.740072</td>\n",
       "    </tr>\n",
       "    <tr>\n",
       "      <th>2022/06</th>\n",
       "      <td>4.725594</td>\n",
       "    </tr>\n",
       "    <tr>\n",
       "      <th>2022/07</th>\n",
       "      <td>4.712001</td>\n",
       "    </tr>\n",
       "  </tbody>\n",
       "</table>\n",
       "<p>355 rows × 1 columns</p>\n",
       "</div>"
      ],
      "text/plain": [
       "         Ln Valor\n",
       "Periodo          \n",
       "1993/01  4.101116\n",
       "1993/02  4.111243\n",
       "1993/03  4.157996\n",
       "1993/04  4.124970\n",
       "1993/05  4.152816\n",
       "...           ...\n",
       "2022/03  4.717964\n",
       "2022/04  4.696197\n",
       "2022/05  4.740072\n",
       "2022/06  4.725594\n",
       "2022/07  4.712001\n",
       "\n",
       "[355 rows x 1 columns]"
      ]
     },
     "execution_count": 10,
     "metadata": {},
     "output_type": "execute_result"
    }
   ],
   "source": [
    "h_index_economic_activity_mx_ln = h_index_economic_activity_mx_stationary\n",
    "h_index_economic_activity_mx_ln = h_index_economic_activity_mx_ln.drop(['Valor', 'CC Valor'], axis=1)\n",
    "h_index_economic_activity_mx_ln = h_index_economic_activity_mx_ln.set_index('Periodo')\n",
    "h_index_economic_activity_mx_ln"
   ]
  },
  {
   "cell_type": "code",
   "execution_count": 11,
   "id": "f5f93ecd-73ae-4d31-adbf-31d9fc13c0da",
   "metadata": {},
   "outputs": [],
   "source": [
    "sarima_model = sm.tsa.statespace.SARIMAX(h_index_economic_activity_mx_stationary['Ln Valor'], oder=(1,0,1), seasonal_order=(0,1,1,12), simple_differencing=True)"
   ]
  },
  {
   "cell_type": "code",
   "execution_count": 12,
   "id": "4c2c7533-50a9-47ba-89d5-a369fb718da0",
   "metadata": {},
   "outputs": [],
   "source": [
    "sarima_model_result = sarima_model.fit()"
   ]
  },
  {
   "cell_type": "code",
   "execution_count": 13,
   "id": "c21467c5-c7a7-4acb-9731-534c405a0f6d",
   "metadata": {},
   "outputs": [
    {
     "data": {
      "text/html": [
       "<table class=\"simpletable\">\n",
       "<caption>SARIMAX Results</caption>\n",
       "<tr>\n",
       "  <th>Dep. Variable:</th>             <td>DS12.Ln Valor</td>          <th>  No. Observations:  </th>    <td>343</td>   \n",
       "</tr>\n",
       "<tr>\n",
       "  <th>Model:</th>           <td>SARIMAX(1, 0, 0)x(0, 0, [1], 12)</td> <th>  Log Likelihood     </th>  <td>796.613</td> \n",
       "</tr>\n",
       "<tr>\n",
       "  <th>Date:</th>                    <td>Thu, 17 Nov 2022</td>         <th>  AIC                </th> <td>-1587.225</td>\n",
       "</tr>\n",
       "<tr>\n",
       "  <th>Time:</th>                        <td>15:15:50</td>             <th>  BIC                </th> <td>-1575.712</td>\n",
       "</tr>\n",
       "<tr>\n",
       "  <th>Sample:</th>                          <td>0</td>                <th>  HQIC               </th> <td>-1582.639</td>\n",
       "</tr>\n",
       "<tr>\n",
       "  <th></th>                              <td> - 343</td>              <th>                     </th>     <td> </td>    \n",
       "</tr>\n",
       "<tr>\n",
       "  <th>Covariance Type:</th>                <td>opg</td>               <th>                     </th>     <td> </td>    \n",
       "</tr>\n",
       "</table>\n",
       "<table class=\"simpletable\">\n",
       "<tr>\n",
       "      <td></td>        <th>coef</th>     <th>std err</th>      <th>z</th>      <th>P>|z|</th>  <th>[0.025</th>    <th>0.975]</th>  \n",
       "</tr>\n",
       "<tr>\n",
       "  <th>ar.L1</th>    <td>    0.9820</td> <td>    0.013</td> <td>   75.768</td> <td> 0.000</td> <td>    0.957</td> <td>    1.007</td>\n",
       "</tr>\n",
       "<tr>\n",
       "  <th>ma.S.L12</th> <td>   -0.8370</td> <td>    0.045</td> <td>  -18.761</td> <td> 0.000</td> <td>   -0.924</td> <td>   -0.750</td>\n",
       "</tr>\n",
       "<tr>\n",
       "  <th>sigma2</th>   <td>    0.0005</td> <td> 1.38e-05</td> <td>   39.025</td> <td> 0.000</td> <td>    0.001</td> <td>    0.001</td>\n",
       "</tr>\n",
       "</table>\n",
       "<table class=\"simpletable\">\n",
       "<tr>\n",
       "  <th>Ljung-Box (L1) (Q):</th>     <td>11.52</td> <th>  Jarque-Bera (JB):  </th> <td>5492.51</td>\n",
       "</tr>\n",
       "<tr>\n",
       "  <th>Prob(Q):</th>                <td>0.00</td>  <th>  Prob(JB):          </th>  <td>0.00</td>  \n",
       "</tr>\n",
       "<tr>\n",
       "  <th>Heteroskedasticity (H):</th> <td>2.13</td>  <th>  Skew:              </th>  <td>-1.73</td> \n",
       "</tr>\n",
       "<tr>\n",
       "  <th>Prob(H) (two-sided):</th>    <td>0.00</td>  <th>  Kurtosis:          </th>  <td>22.30</td> \n",
       "</tr>\n",
       "</table><br/><br/>Warnings:<br/>[1] Covariance matrix calculated using the outer product of gradients (complex-step)."
      ],
      "text/plain": [
       "<class 'statsmodels.iolib.summary.Summary'>\n",
       "\"\"\"\n",
       "                                      SARIMAX Results                                       \n",
       "============================================================================================\n",
       "Dep. Variable:                        DS12.Ln Valor   No. Observations:                  343\n",
       "Model:             SARIMAX(1, 0, 0)x(0, 0, [1], 12)   Log Likelihood                 796.613\n",
       "Date:                              Thu, 17 Nov 2022   AIC                          -1587.225\n",
       "Time:                                      15:15:50   BIC                          -1575.712\n",
       "Sample:                                           0   HQIC                         -1582.639\n",
       "                                              - 343                                         \n",
       "Covariance Type:                                opg                                         \n",
       "==============================================================================\n",
       "                 coef    std err          z      P>|z|      [0.025      0.975]\n",
       "------------------------------------------------------------------------------\n",
       "ar.L1          0.9820      0.013     75.768      0.000       0.957       1.007\n",
       "ma.S.L12      -0.8370      0.045    -18.761      0.000      -0.924      -0.750\n",
       "sigma2         0.0005   1.38e-05     39.025      0.000       0.001       0.001\n",
       "===================================================================================\n",
       "Ljung-Box (L1) (Q):                  11.52   Jarque-Bera (JB):              5492.51\n",
       "Prob(Q):                              0.00   Prob(JB):                         0.00\n",
       "Heteroskedasticity (H):               2.13   Skew:                            -1.73\n",
       "Prob(H) (two-sided):                  0.00   Kurtosis:                        22.30\n",
       "===================================================================================\n",
       "\n",
       "Warnings:\n",
       "[1] Covariance matrix calculated using the outer product of gradients (complex-step).\n",
       "\"\"\""
      ]
     },
     "execution_count": 13,
     "metadata": {},
     "output_type": "execute_result"
    }
   ],
   "source": [
    "sarima_model_result.summary()"
   ]
  },
  {
   "cell_type": "markdown",
   "id": "e18d29da",
   "metadata": {},
   "source": [
    "### **Coefficient interpretation**\n",
    "The anmual % growth of GLOBAL INDEX OF ECONOMIC ACTIVITY of Mexico is significantly positive (98%) related to the annual % growth of the index of last month (lag1). Also, the annual % growth of the index is significantly negative (-83%) related to the annual % growth of the random shock of last year. On the other hand, the sigma2  is the estimate of the variance of the error term."
   ]
  },
  {
   "cell_type": "code",
   "execution_count": 14,
   "id": "e31458fa-72d0-4e35-9afe-82507c3e91c1",
   "metadata": {},
   "outputs": [
    {
     "data": {
      "image/png": "[encoded data removed]",
      "text/plain": [
       "<Figure size 936x504 with 4 Axes>"
      ]
     },
     "metadata": {
      "needs_background": "light"
     },
     "output_type": "display_data"
    }
   ],
   "source": [
    "sarima_model_result.plot_diagnostics(figsize=(13,7))\n",
    "plt.show()"
   ]
  },
  {
   "cell_type": "markdown",
   "id": "3948e37d-a9a0-41ce-b81f-ce4ce6f1c55d",
   "metadata": {},
   "source": [
    "#### ***Testing for white noise serie***"
   ]
  },
  {
   "cell_type": "code",
   "execution_count": 15,
   "id": "71e718ad-77cc-48f9-9466-8e6336b94fd0",
   "metadata": {},
   "outputs": [
    {
     "name": "stderr",
     "output_type": "stream",
     "text": [
      "c:\\Users\\myros\\anaconda3\\envs\\Statistics\\lib\\site-packages\\statsmodels\\graphics\\tsaplots.py:348: FutureWarning: The default method 'yw' can produce PACF values outside of the [-1,1] interval. After 0.13, the default will change tounadjusted Yule-Walker ('ywm'). You can use this method now by setting method='ywm'.\n",
      "  warnings.warn(\n"
     ]
    },
    {
     "data": {
      "image/png": "[encoded data removed]",
      "text/plain": [
       "<Figure size 864x720 with 2 Axes>"
      ]
     },
     "metadata": {
      "needs_background": "light"
     },
     "output_type": "display_data"
    }
   ],
   "source": [
    "# Plotting the autocorrelations of the model residuals/error\n",
    "residuals = sarima_model_result.resid\n",
    "fig = plt.figure(figsize=(12,10))\n",
    "ax1 = fig.add_subplot(211)\n",
    "fig = sm.graphics.tsa.plot_acf(residuals, ax=ax1)  \n",
    "ax2 = fig.add_subplot(212)\n",
    "fig = sm.graphics.tsa.plot_pacf(residuals, ax=ax2)"
   ]
  },
  {
   "cell_type": "code",
   "execution_count": 16,
   "id": "b4e65a69-e0eb-4bd0-804a-129a9bbdad9c",
   "metadata": {},
   "outputs": [
    {
     "data": {
      "text/plain": [
       "(array([  1.,   0.,   0.,   0.,   2.,  27., 180., 119.,  10.,   4.]),\n",
       " array([-0.20602698, -0.17552408, -0.14502118, -0.11451829, -0.08401539,\n",
       "        -0.0535125 , -0.0230096 ,  0.0074933 ,  0.03799619,  0.06849909,\n",
       "         0.09900198]),\n",
       " <BarContainer object of 10 artists>)"
      ]
     },
     "execution_count": 16,
     "metadata": {},
     "output_type": "execute_result"
    },
    {
     "data": {
      "image/png": "[encoded data removed]",
      "text/plain": [
       "<Figure size 432x288 with 1 Axes>"
      ]
     },
     "metadata": {
      "needs_background": "light"
     },
     "output_type": "display_data"
    }
   ],
   "source": [
    "# Plotting the histogram to confirm it has a Gaussian distribution\n",
    "plt.hist(residuals)"
   ]
  },
  {
   "cell_type": "markdown",
   "id": "40497739-0154-41a9-9b39-6a446f7b0728",
   "metadata": {},
   "source": [
    "As we can see in the two diagramas above this serie is a white noise serie since it has a Gaussian distribution and the autoccorellations of the residuals do not exceed the 95% confidence interval. Thus, the model is correct."
   ]
  },
  {
   "cell_type": "markdown",
   "id": "151c3b23-7e74-4cef-9bbf-45eb8d3bc860",
   "metadata": {},
   "source": [
    "---\n",
    "## **Prediction**"
   ]
  },
  {
   "cell_type": "code",
   "execution_count": 17,
   "id": "388df95f-28fd-434f-a0e3-8cd3f9feaf75",
   "metadata": {},
   "outputs": [
    {
     "data": {
      "text/plain": [
       "0     103.776534\n",
       "1     104.405004\n",
       "2     110.317061\n",
       "3     112.087650\n",
       "4     111.862880\n",
       "5     106.381112\n",
       "6     103.684364\n",
       "7     112.533153\n",
       "8     109.052697\n",
       "9     113.036339\n",
       "10    112.160431\n",
       "11    110.875601\n",
       "12    108.217299\n",
       "13    105.223304\n",
       "14    109.460695\n",
       "15    113.935769\n",
       "16    113.305832\n",
       "17    108.285285\n",
       "18    106.229197\n",
       "19    112.938205\n",
       "20    110.527954\n",
       "21    115.440546\n",
       "22    113.795657\n",
       "23    112.272741\n",
       "24           NaN\n",
       "dtype: float64"
      ]
     },
     "execution_count": 17,
     "metadata": {},
     "output_type": "execute_result"
    }
   ],
   "source": [
    "predictions = sarima_model_result.predict(start=h_index_economic_activity_mx_stationary_no_nan.shape[0], end=h_index_economic_activity_mx_stationary_no_nan.shape[0]+24)\n",
    "predictions.reset_index(drop=True, inplace=True)\n",
    "predictions = np.exp(predictions)\n",
    "\n",
    "tail_index = h_index_economic_activity_mx[\"Valor\"].tail(24)\n",
    "tail_index.reset_index(drop=True, inplace=True)\n",
    "\n",
    "predictions_original = predictions.add(tail_index)\n",
    "\n",
    "predictions_original"
   ]
  },
  {
   "cell_type": "code",
   "execution_count": 18,
   "id": "eef42d72",
   "metadata": {},
   "outputs": [
    {
     "data": {
      "image/png": "[encoded data removed]",
      "text/plain": [
       "<Figure size 432x288 with 1 Axes>"
      ]
     },
     "metadata": {
      "needs_background": "light"
     },
     "output_type": "display_data"
    }
   ],
   "source": [
    "# Plotting the index over time\n",
    "plt.clf()\n",
    "plt.title(\"Global Index of Economic Activity Mexico\")\n",
    "\n",
    "\n",
    "predictions_original.index +=  h_index_economic_activity_mx[\"Valor\"].tail(1).index.item() + 1\n",
    "\n",
    "h_index_economic_activity_mx[\"Valor\"].plot()\n",
    "predictions_original.plot()\n",
    "plt.show()"
   ]
  },
  {
   "cell_type": "markdown",
   "id": "0621ff6d",
   "metadata": {},
   "source": [
    "In the predictions of the model we can observe that there will be a relative deep decrease in the next months, but after it, it will stabilize and it will be slowly increasing."
   ]
  }
 ],
 "metadata": {
  "kernelspec": {
   "display_name": "Python 3.10.4 ('Statistics')",
   "language": "python",
   "name": "python3"
  },
  "language_info": {
   "codemirror_mode": {
    "name": "ipython",
    "version": 3
   },
   "file_extension": ".py",
   "mimetype": "text/x-python",
   "name": "python",
   "nbconvert_exporter": "python",
   "pygments_lexer": "ipython3",
   "version": "3.10.4"
  },
  "vscode": {
   "interpreter": {
    "hash": "1365f7312f0ac659adc64cf9ad70f48f473b7d9bf5c210bebce62c7e15bdcca9"
   }
  }
 },
 "nbformat": 4,
 "nbformat_minor": 5
}
